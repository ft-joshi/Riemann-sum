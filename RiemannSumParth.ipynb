{
  "nbformat": 4,
  "nbformat_minor": 0,
  "metadata": {
    "colab": {
      "name": "RiemannSumParth.ipynb",
      "provenance": [],
      "collapsed_sections": []
    },
    "kernelspec": {
      "name": "python3",
      "display_name": "Python 3"
    },
    "language_info": {
      "name": "python"
    }
  },
  "cells": [
    {
      "cell_type": "code",
      "execution_count": null,
      "metadata": {
        "id": "FMh9Akn2Ot83"
      },
      "outputs": [],
      "source": [
        "import math\n",
        "import matplotlib.pyplot as plt\n",
        "import numpy as np\n",
        "def f(x):\n",
        "  return x**2+x**3"
      ]
    },
    {
      "cell_type": "code",
      "source": [
        "def l_n(f,a,b,n):\n",
        "  cdf = ((b-a)/n)\n",
        "  sum = 0\n",
        "  curr = a\n",
        "  while curr<b:\n",
        "    sum = sum+f(curr)\n",
        "    curr = curr+cdf\n",
        "  return sum*cdf\n",
        "\n",
        "def r_n(f,a,b,n):\n",
        "  cdf = ((b-a)/n)\n",
        "  sum = 0\n",
        "  curr = a+cdf\n",
        "  while curr<=b:\n",
        "    sum = sum+f(curr)\n",
        "    curr = curr+cdf\n",
        "  return sum*cdf\n",
        "\n",
        "def m_n(f,a,b,n):\n",
        "  cdf = ((b-a)/n)\n",
        "  sum = 0\n",
        "  curr = a\n",
        "  next = curr + cdf\n",
        "  while next<=b:\n",
        "    sum = sum+f((curr+next)/2)\n",
        "    curr = curr+cdf\n",
        "    next = next+cdf\n",
        "  return sum*cdf\n",
        "\n",
        "def t_n(f,a,b,n):\n",
        "  sum = 0\n",
        "  curr = a + ((b-a)/n)\n",
        "  sum = (f(a)+f(b))/2\n",
        "  while curr<b:\n",
        "    sum = sum+f(curr)\n",
        "    curr = curr+((b-a)/n)\n",
        "  return sum*((b-a)/n)\n",
        "\n",
        "def s_n(f,a,b,n):\n",
        "  return (2/3)*(m_n(f,a,b,n))+(1/3)*(t_n(f,a,b,n))\n",
        "\n",
        "I = 12.71708410155\n",
        "a=-2\n",
        "b=3\n",
        "ns = [5,10,20,1000]\n",
        "matrix = np.zeros((4,4))\n",
        "for i in range(4):\n",
        "  matrix[0][i] = np.abs(I-l_n(f,a,b,ns[i]))\n",
        "  for i in range(4):\n",
        "    matrix[1][i] = np.abs(I-r_n(f,a,b,ns[i]))\n",
        "  for i in range(4):\n",
        "    matrix[2][i] = np.abs(I-m_n(f,a,b,ns[i]))\n",
        "  for i in range(4):\n",
        "    matrix[3][i] = np.abs(I-t_n(f,a,b,ns[i]))\n",
        "\n",
        "\n",
        "for i in range(4):\n",
        "  curr_col = matrix[:, i]\n",
        "  plt.plot(ns,curr_col)\n",
        "\n",
        "plt.legend([\"l\", \"r\",\"m\",\"t\",\"s\"], loc =\"lower right\")"
      ],
      "metadata": {
        "id": "qIOzawDXO3Az",
        "colab": {
          "base_uri": "https://localhost:8080/",
          "height": 282
        },
        "outputId": "877e77ee-8bf3-424c-bd1f-ebbf6bb978c7"
      },
      "execution_count": null,
      "outputs": [
        {
          "output_type": "execute_result",
          "data": {
            "text/plain": [
              "<matplotlib.legend.Legend at 0x7f9a35177c50>"
            ]
          },
          "metadata": {},
          "execution_count": 2
        },
        {
          "output_type": "display_data",
          "data": {
            "text/plain": [
              "<Figure size 432x288 with 1 Axes>"
            ],
            "image/png": "[encoded data removed]"
          },
          "metadata": {
            "needs_background": "light"
          }
        }
      ]
    }
  ]
}